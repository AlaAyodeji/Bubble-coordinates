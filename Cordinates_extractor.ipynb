{
 "cells": [
  {
   "cell_type": "code",
   "execution_count": 1,
   "metadata": {},
   "outputs": [],
   "source": [
    "# Import needed libraries\n",
    "import cv2 as cv\n",
    "import numpy as np\n",
    "import matplotlib.pyplot as plt\n",
    "import glob\n",
    "import pandas as pd"
   ]
  },
  {
   "cell_type": "code",
   "execution_count": 2,
   "metadata": {},
   "outputs": [],
   "source": [
    "def readImages(images_path):\n",
    "    \"\"\"\n",
    "    readImages creates an array of images to be worked on.\n",
    "    Args:\n",
    "        images_path: path to where images are stored, not forgetting image format\n",
    "        example: ../../*.bmp or ../../*.jpg, * indicating any filename with the following format\n",
    "    \"\"\"  \n",
    "    img_array = []\n",
    "    print('Reading images ...')\n",
    "    for filename in glob.glob(images_path):\n",
    "        img = cv.imread(filename)\n",
    "        img_array.append(img)\n",
    "    print('Images read successfully.')\n",
    "    return img_array"
   ]
  },
  {
   "cell_type": "code",
   "execution_count": 3,
   "metadata": {},
   "outputs": [],
   "source": [
    "def cordinatesExtractor(images_array, threshold_value = 180):\n",
    "    \"\"\"\n",
    "    cordinatesExtractor extracts bubble cordinates fro a given set of images.\n",
    "    Args:\n",
    "        images_array: an array of all images to be worked on\n",
    "        threshold_value: threshold value for blob detection, default value is 180\n",
    "    \n",
    "    \"\"\"\n",
    "    print(\"Cordinates extraction started ...\")\n",
    "    threshold_value = 180 \n",
    "    img_num = 0\n",
    "    counter = 0\n",
    "    df = pd.DataFrame(columns=[\"Image Number\",\"Bubble Number\",\"X-min\",\"X-max\",\"Y-min\",\"Y-max\",\"Area\"])\n",
    "    for img in images_array:\n",
    "        # Convert image to grayscale\n",
    "        frame_gray = cv.cvtColor(img, cv.COLOR_BGR2GRAY)\n",
    "\n",
    "        # Extract blobs\n",
    "        ret,thresh = cv.threshold(frame_gray,threshold_value,255,cv.THRESH_BINARY_INV) # distinguishing the pixel intensity\n",
    "        contours, hierarchy = cv.findContours(thresh,cv.RETR_EXTERNAL,cv.CHAIN_APPROX_NONE)\n",
    "        \n",
    "        # Distinguish bubbles and reflections\n",
    "        bub_num = 0\n",
    "        for keyvector in contours:\n",
    "            if keyvector.size > 200 and keyvector.size < 1000:\n",
    "                maxi = np.max(keyvector,0)\n",
    "                mini = np.min(keyvector,0)\n",
    "                w, h = maxi.reshape(-1)\n",
    "                x, y = mini.reshape(-1)\n",
    "                bubble_area = cv.contourArea(keyvector)\n",
    "                df.at[counter, \"Image Number\"] = img_num\n",
    "                df.at[counter, \"Bubble Number\"] = bub_num\n",
    "                df.at[counter, \"X-min\"] = x - 2\n",
    "                df.at[counter, \"X-max\"] = w + 2\n",
    "                df.at[counter, \"Y-min\"] = y - 2\n",
    "                df.at[counter, \"Y-max\"] = h + 2\n",
    "                df.at[counter, \"Area\"] = bubble_area\n",
    "                bub_num += 1\n",
    "                counter += 1\n",
    "        img_num += 1\n",
    "\n",
    "    print(\"Cordinates extraction completed successfuly.\")\n",
    "    return df"
   ]
  },
  {
   "cell_type": "code",
   "execution_count": 4,
   "metadata": {},
   "outputs": [],
   "source": [
    "def saveData(dataframe, folder):\n",
    "    \"\"\"\n",
    "    cordinatesExtractor extracts bubble cordinates fro a given set of images.\n",
    "    Args:\n",
    "        dataframe: dataframe to be saved\n",
    "        folder: path to folder where excel sheet will be saved\n",
    "    \n",
    "    \"\"\"\n",
    "    print(\"Saving to excel started ...\")\n",
    "    results_path = folder + \"/Output.xlsx\"\n",
    "    dataframe.to_excel(results_path)\n",
    "    print(\"Save to excel successful.\")\n",
    "\n",
    "    return "
   ]
  },
  {
   "cell_type": "code",
   "execution_count": 5,
   "metadata": {},
   "outputs": [],
   "source": [
    "images_path = \"Extract_/0.018_84/*.bmp\"\n",
    "output_path = \"Extract_/0.018_84\""
   ]
  },
  {
   "cell_type": "code",
   "execution_count": 6,
   "metadata": {},
   "outputs": [
    {
     "name": "stdout",
     "output_type": "stream",
     "text": [
      "Reading images ...\n",
      "Images read successfully.\n"
     ]
    }
   ],
   "source": [
    "images = readImages(images_path)"
   ]
  },
  {
   "cell_type": "code",
   "execution_count": 7,
   "metadata": {},
   "outputs": [
    {
     "name": "stdout",
     "output_type": "stream",
     "text": [
      "Cordinates extraction started ...\n",
      "Cordinates extraction completed successfuly.\n"
     ]
    }
   ],
   "source": [
    "results_datframe = cordinatesExtractor(images)"
   ]
  },
  {
   "cell_type": "code",
   "execution_count": 8,
   "metadata": {},
   "outputs": [
    {
     "name": "stdout",
     "output_type": "stream",
     "text": [
      "Saving to excel started ...\n",
      "Saving to excel started ...\n"
     ]
    }
   ],
   "source": [
    "saveData(results_datframe, output_path)"
   ]
  }
 ],
 "metadata": {
  "kernelspec": {
   "display_name": "Dr._Ala-B-JflTiL",
   "language": "python",
   "name": "python3"
  },
  "language_info": {
   "codemirror_mode": {
    "name": "ipython",
    "version": 3
   },
   "file_extension": ".py",
   "mimetype": "text/x-python",
   "name": "python",
   "nbconvert_exporter": "python",
   "pygments_lexer": "ipython3",
   "version": "3.11.8"
  }
 },
 "nbformat": 4,
 "nbformat_minor": 2
}
